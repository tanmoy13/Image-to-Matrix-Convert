{
 "cells": [
  {
   "cell_type": "code",
   "execution_count": 2,
   "metadata": {},
   "outputs": [],
   "source": [
    "import cv2"
   ]
  },
  {
   "cell_type": "code",
   "execution_count": 25,
   "metadata": {},
   "outputs": [],
   "source": [
    "import csv, numpy as np\n",
    "import matplotlib.pyplot as plt\n",
    "# from PIL import Image\n",
    "import PIL.Image as im"
   ]
  },
  {
   "cell_type": "code",
   "execution_count": 4,
   "metadata": {},
   "outputs": [],
   "source": [
    "path = \"/home/tanmoy/Desktop/My-Work/ML\""
   ]
  },
  {
   "cell_type": "code",
   "execution_count": 5,
   "metadata": {},
   "outputs": [],
   "source": []
  },
  {
   "cell_type": "code",
   "execution_count": 33,
   "metadata": {},
   "outputs": [],
   "source": [
    "x=0\n",
    "with open(path+'/train.csv', 'r') as csvfile:\n",
    "    spamreader = csv.reader(csvfile, delimiter=',')\n",
    "    for row in spamreader:\n",
    "        x+=1\n",
    "        arr=np.array(row)\n",
    "        label=arr[0]\n",
    "        arr=arr[1:]\n",
    "        arr=np.reshape(arr,(28,28))\n",
    "        arr=im.fromarray(arr.astype('uint8'))\n",
    "#         print(type(arr))\n",
    "#         plt.imshow(arr)\n",
    "#         plt.show()\n",
    "        arr.save((path+\"/train_img\"+\"/\"+str(x))+\"_\"+str(label)+\".png\",\"png\")\n",
    "#         print(arr.shape)\n",
    "#         cv2.imwrite(str(x)+\".jpg\",arr)\n",
    "#         print(type(arr))\n",
    "#         print(arr.shape)\n",
    "#     for row in spamreader:\n",
    "#         x+=1\n",
    "#         arr=list(row)\n",
    "#         arr = np.array(arr).reshape(28,28)\n",
    "#         arr.astype(int)\n",
    "#         print(type(arr[0][0]))\n",
    "#         arr=np.reshape(arr,(28,28))\n",
    "#         if(arr[0][0]!='pixel0'):\n",
    "#             arr.astype(int)\n",
    "# #             print(arr[0])\n",
    "# #             img = cv2.resize(arr,(28,28))\n",
    "# #             img.astype(int)\n",
    "# #             arr.reshape(arr.shape[0], arr.shape[1]), cmap=plt.cm.Greys)\n",
    "#             plt.imshow(arr.reshape(arr.shape[0], arr.shape[1]), cmap=plt.cm.Greys)\n",
    "#             plt.show()\n",
    "#             print(img)\n",
    "# #             with open(path+\"/\"+str(x)+\".png\", 'wb') as fd:\n",
    "# #                 fd.write(img)\n",
    "#             break\n",
    "       "
   ]
  },
  {
   "cell_type": "code",
   "execution_count": 18,
   "metadata": {},
   "outputs": [],
   "source": [
    "test=cv2.imread('mnist_complete_zero.png',0)"
   ]
  },
  {
   "cell_type": "code",
   "execution_count": 23,
   "metadata": {},
   "outputs": [
    {
     "data": {
      "text/plain": [
       "True"
      ]
     },
     "execution_count": 23,
     "metadata": {},
     "output_type": "execute_result"
    }
   ],
   "source": [
    "cv2.imwrite('test.jpg',test)"
   ]
  }
 ],
 "metadata": {
  "kernelspec": {
   "display_name": "Python 3",
   "language": "python",
   "name": "python3"
  },
  "language_info": {
   "codemirror_mode": {
    "name": "ipython",
    "version": 3
   },
   "file_extension": ".py",
   "mimetype": "text/x-python",
   "name": "python",
   "nbconvert_exporter": "python",
   "pygments_lexer": "ipython3",
   "version": "3.6.5"
  }
 },
 "nbformat": 4,
 "nbformat_minor": 2
}
