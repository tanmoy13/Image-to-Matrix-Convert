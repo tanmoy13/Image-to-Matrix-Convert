{
 "cells": [
  {
   "cell_type": "code",
   "execution_count": 23,
   "metadata": {},
   "outputs": [],
   "source": [
    "import cv2, os, csv, random\n",
    "import matplotlib.pyplot as plt\n",
    "import numpy as np\n",
    "from PIL import Image"
   ]
  },
  {
   "cell_type": "code",
   "execution_count": 2,
   "metadata": {},
   "outputs": [],
   "source": [
    "paths=\"/home/tanmoy/Desktop/My-Work/ML/Suvo Sir/Image-to-Matrix-Convert/Data/English/\""
   ]
  },
  {
   "cell_type": "code",
   "execution_count": 26,
   "metadata": {},
   "outputs": [
    {
     "data": {
      "image/png": "[encoded data removed]",
      "text/plain": [
       "<Figure size 1080x1080 with 30 Axes>"
      ]
     },
     "metadata": {},
     "output_type": "display_data"
    }
   ],
   "source": [
    "columns = 3\n",
    "rows = 10\n",
    "size = 8,8\n",
    "idx = 1\n",
    "\n",
    "fig=plt.figure(figsize=(15, 15))\n",
    "\n",
    "dataset = []\n",
    "\n",
    "for path in os.walk(paths):\n",
    "    if(len(path[2])!=0):\n",
    "        temp_list=path[2]\n",
    "        label=os.path.basename(path[0])\n",
    "        label=int(label)\n",
    "        label_arr=np.array([label])\n",
    "        for i in range(len(temp_list)):\n",
    "            img=Image.open(path[0]+\"/\"+temp_list[i]).convert('L')\n",
    "            img = img.resize(size,Image.ANTIALIAS)\n",
    "            fig.add_subplot(rows,columns,idx)\n",
    "            idx+=1\n",
    "            plt.imshow(img)\n",
    "            arr = numpy.asarray(img)\n",
    "            flat_arr = arr.ravel()\n",
    "            flat_arr=np.append(flat_arr,[label])\n",
    "            dataset.append(flat_arr)\n",
    "plt.show()"
   ]
  },
  {
   "cell_type": "code",
   "execution_count": 14,
   "metadata": {},
   "outputs": [],
   "source": [
    "# random.shuffle(dataset)"
   ]
  },
  {
   "cell_type": "code",
   "execution_count": 28,
   "metadata": {},
   "outputs": [],
   "source": [
    "for i in range(len(dataset)):\n",
    "    x = dataset[i]\n",
    "    a,b = np.split(x,[size[0]*size[1]])\n",
    "    "
   ]
  },
  {
   "cell_type": "code",
   "execution_count": 29,
   "metadata": {},
   "outputs": [
    {
     "ename": "FileNotFoundError",
     "evalue": "[Errno 2] No such file or directory: 'spam.txt'",
     "output_type": "error",
     "traceback": [
      "\u001b[0;31m---------------------------------------------------------------------------\u001b[0m",
      "\u001b[0;31mFileNotFoundError\u001b[0m                         Traceback (most recent call last)",
      "\u001b[0;32m<ipython-input-29-d6e58ef3e78d>\u001b[0m in \u001b[0;36m<module>\u001b[0;34m()\u001b[0m\n\u001b[1;32m      8\u001b[0m \u001b[0;34m\u001b[0m\u001b[0m\n\u001b[1;32m      9\u001b[0m \u001b[0;31m# prepare string data\u001b[0m\u001b[0;34m\u001b[0m\u001b[0;34m\u001b[0m\u001b[0m\n\u001b[0;32m---> 10\u001b[0;31m \u001b[0;32mwith\u001b[0m \u001b[0mopen\u001b[0m\u001b[0;34m(\u001b[0m\u001b[0;34m'spam.txt'\u001b[0m\u001b[0;34m,\u001b[0m \u001b[0;34m'r'\u001b[0m\u001b[0;34m)\u001b[0m \u001b[0;32mas\u001b[0m \u001b[0mf\u001b[0m\u001b[0;34m:\u001b[0m\u001b[0;34m\u001b[0m\u001b[0m\n\u001b[0m\u001b[1;32m     11\u001b[0m    \u001b[0mspam\u001b[0m \u001b[0;34m=\u001b[0m \u001b[0mf\u001b[0m\u001b[0;34m.\u001b[0m\u001b[0mreadlines\u001b[0m\u001b[0;34m(\u001b[0m\u001b[0;34m)\u001b[0m\u001b[0;34m\u001b[0m\u001b[0m\n\u001b[1;32m     12\u001b[0m \u001b[0;34m\u001b[0m\u001b[0m\n",
      "\u001b[0;31mFileNotFoundError\u001b[0m: [Errno 2] No such file or directory: 'spam.txt'"
     ]
    }
   ],
   "source": [
    "from itertools import chain\n",
    "\n",
    "from sklearn.feature_extraction.text import TfidfVectorizer\n",
    "from sklearn.pipeline import Pipeline\n",
    "from sklearn.linear_model import LogisticRegression\n",
    "\n",
    "import numpy as np\n",
    "\n",
    "# prepare string data\n",
    "with open('spam.txt', 'r') as f:\n",
    "   spam = f.readlines()\n",
    "\n",
    "with open('ham.txt', 'r') as f:\n",
    "   ham = f.readlines()\n",
    "\n",
    "text_train = list(chain(spam, ham))\n",
    "\n",
    "# prepare labels\n",
    "labels_train = np.concatenate((np.zeros(len(spam)),np.ones(len(ham))))\n",
    "\n",
    "# build pipeline\n",
    "vectorizer = TfidfVectorizer()\n",
    "regressor = LogisticRegression()\n",
    "\n",
    "pipeline = Pipeline([('vectorizer', vectorizer), ('regressor', regressor)])\n",
    "\n",
    "# fit pipeline\n",
    "pipeline.fit(text_train, labels_train)\n",
    "\n",
    "# test predict\n",
    "test = [\"Is this spam or ham?\"]\n",
    "pipeline.predict(test) # value in [0,1] "
   ]
  }
 ],
 "metadata": {
  "kernelspec": {
   "display_name": "Python 3",
   "language": "python",
   "name": "python3"
  },
  "language_info": {
   "codemirror_mode": {
    "name": "ipython",
    "version": 3
   },
   "file_extension": ".py",
   "mimetype": "text/x-python",
   "name": "python",
   "nbconvert_exporter": "python",
   "pygments_lexer": "ipython3",
   "version": "3.6.5"
  }
 },
 "nbformat": 4,
 "nbformat_minor": 2
}
