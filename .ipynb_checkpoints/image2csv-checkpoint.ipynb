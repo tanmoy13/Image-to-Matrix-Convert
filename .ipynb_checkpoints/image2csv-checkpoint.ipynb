{
 "cells": [
  {
   "cell_type": "code",
   "execution_count": 49,
   "metadata": {},
   "outputs": [],
   "source": [
    "import cv2, os, numpy,csv\n",
    "import matplotlib.pyplot as plt\n",
    "import numpy as np\n",
    "from PIL import Image"
   ]
  },
  {
   "cell_type": "code",
   "execution_count": null,
   "metadata": {},
   "outputs": [],
   "source": [
    "paths=\"/home/tanmoy/Desktop/My-Work/ML/Suvo Sir/Image-to-Matrix-Convert/Data/English/0\"\n",
    "# filepath=\"/home/tanmoy/Desktop/Tanmoy_Work/Image_to_mat_convert/acquisitions\""
   ]
  },
  {
   "cell_type": "code",
   "execution_count": 71,
   "metadata": {
    "scrolled": false
   },
   "outputs": [
    {
     "name": "stdout",
     "output_type": "stream",
     "text": [
      "c0.PNG\n",
      "0\n",
      "<PIL.Image.Image image mode=LA size=12x12 at 0x7F1A825353C8>\n",
      "a0.PNG\n",
      "0\n",
      "<PIL.Image.Image image mode=LA size=12x12 at 0x7F1A825353C8>\n",
      "t0.PNG\n",
      "0\n",
      "<PIL.Image.Image image mode=LA size=12x12 at 0x7F1A825353C8>\n",
      "/home/tanmoy/Desktop/My-Work/ML/Suvo Sir/Image-to-Matrix-Convert/Data/English/0\n",
      "-----------------------\n",
      "----Done----\n"
     ]
    },
    {
     "data": {
      "image/png": "[encoded data removed]",
      "text/plain": [
       "<Figure size 864x864 with 3 Axes>"
      ]
     },
     "metadata": {},
     "output_type": "display_data"
    }
   ],
   "source": [
    "# XfileName='test_X'\n",
    "# YfileName='test_Y'\n",
    "columns = 3\n",
    "rows = 1\n",
    "size = 12,12\n",
    "fig=plt.figure(figsize=(12, 12))\n",
    "for path in os.walk(paths):\n",
    "    if(len(path[2])!=0):\n",
    "        temp_list=path[2]\n",
    "#         temp_list.sort()\n",
    "        label=os.path.basename(path[0])\n",
    "        label=int(label)\n",
    "        label_arr=np.array([label])\n",
    "        for i in range(len(temp_list)):\n",
    "            print(temp_list[i])\n",
    "            print(label)\n",
    "            img=Image.open(path[0]+\"/\"+temp_list[i]).convert('LA')\n",
    "            img = img.resize((12,12),Image.ANTIALIAS)\n",
    "\n",
    "#             arr = np.array(img)\n",
    "            \n",
    "#             arr = arr.ravel()\n",
    "#             arr=np.reshape(arr,(100,100))\n",
    "#             arr=im.fromarray(arr.astype('uint8'))\n",
    "            fig.add_subplot(rows,columns,i+1)\n",
    "            plt.imshow(img)\n",
    "            \n",
    "# #             temp_list[i]=temp_list[i].replace(\".png\",\"\")\n",
    "#             flat_arr = arr.ravel()\n",
    "#             flat_arr = np.divide(flat_arr,255.0)\n",
    "#             flat_arr=np.append(flat_arr,[label])\n",
    "#             fileName=path[0][109:]\n",
    "#             fileName=temp_list[i]\n",
    "#             fileName=fileName.replace(\".png\",\"\")\n",
    "\n",
    "#             with open(filepath+'/'+XfileName+\".csv\",\"a\",newline=\"\") as Output_csv:\n",
    "#                     CSVWriter = csv.writer(Output_csv)\n",
    "#                     CSVWriter.writerow(flat_arr)\n",
    "#             with open(filepath+'/'+YfileName+\".csv\",\"a\",newline=\"\") as Output_csv:\n",
    "#                     CSVWriter = csv.writer(Output_csv)\n",
    "#                     CSVWriter.writerow(label_arr)\n",
    "        print(path[0])\n",
    "        print(\"-----------------------\")\n",
    "print(\"----Done----\")\n",
    "        "
   ]
  },
  {
   "cell_type": "code",
   "execution_count": null,
   "metadata": {
    "scrolled": false
   },
   "outputs": [],
   "source": [
    "for path in os.walk(paths):\n",
    "    if(len(path[2])!=0):\n",
    "        temp_list=path[2]\n",
    "        temp_list.sort()\n",
    "        print(path[0])\n",
    "        \n",
    "#         for i in range(len(temp_list)):\n",
    "#             img=cv2.imread(path[0]+\"/\"+temp_list[i],0)\n",
    "#             arr = np.array(img)\n",
    "# #             temp_list[i]=temp_list[i].replace(\".png\",\"\")\n",
    "# #             flat_arr = arr.ravel()\n",
    "# #             flat_arr=np.append(flat_arr,list(temp_list[i]))\n",
    "# #             fileName=path[0][109:]\n",
    "#             fileName=temp_list[i]\n",
    "#             fileName=fileName.replace(\".png\",\"\")\n",
    "# #             print(fileName)\n",
    "# #         print(path[0])\n",
    "        label=os.path.basename(path[0])\n",
    "        label=label.replace(\"G\",\"\")\n",
    "        label=int(label)\n",
    "        label-=1\n",
    "        label=[label]\n",
    "        print(label)\n",
    "        print(\"-----------------------\")"
   ]
  },
  {
   "cell_type": "code",
   "execution_count": null,
   "metadata": {},
   "outputs": [],
   "source": [
    "img=cv2.imread('1.png',0)"
   ]
  },
  {
   "cell_type": "code",
   "execution_count": null,
   "metadata": {},
   "outputs": [],
   "source": [
    "len(img)"
   ]
  },
  {
   "cell_type": "code",
   "execution_count": null,
   "metadata": {},
   "outputs": [],
   "source": [
    "import numpy as np\n",
    "from PIL import Image\n",
    "\n",
    "img = Image.open('orig.png').convert('RGBA')\n",
    "arr = np.array(img)\n",
    "\n",
    "# record the original shape\n",
    "shape = arr.shape\n",
    "\n",
    "# make a 1-dimensional view of arr\n",
    "flat_arr = arr.ravel()\n",
    "\n",
    "# convert it to a matrix\n",
    "vector = np.matrix(flat_arr)\n",
    "\n",
    "# do something to the vector\n",
    "vector[:,::10] = 128\n",
    "\n",
    "# reform a numpy array of the original shape\n",
    "arr2 = np.asarray(vector).reshape(shape)\n",
    "\n",
    "# make a PIL image\n",
    "img2 = Image.fromarray(arr2, 'RGBA')\n",
    "img2.show()"
   ]
  },
  {
   "cell_type": "code",
   "execution_count": 29,
   "metadata": {},
   "outputs": [
    {
     "data": {
      "image/png": "[encoded data removed]",
      "text/plain": [
       "<Figure size 864x864 with 4 Axes>"
      ]
     },
     "metadata": {},
     "output_type": "display_data"
    }
   ],
   "source": [
    "w=4\n",
    "h=4\n",
    "fig=plt.figure(figsize=(12, 12))\n",
    "columns = 4\n",
    "rows = 1\n",
    "for i in range(1, columns*rows +1):\n",
    "    img = np.random.randint(256, size=(h,w))\n",
    "    fig.add_subplot(rows, columns, i)\n",
    "    plt.imshow(img)\n",
    "plt.show()"
   ]
  }
 ],
 "metadata": {
  "kernelspec": {
   "display_name": "Python 3",
   "language": "python",
   "name": "python3"
  },
  "language_info": {
   "codemirror_mode": {
    "name": "ipython",
    "version": 3
   },
   "file_extension": ".py",
   "mimetype": "text/x-python",
   "name": "python",
   "nbconvert_exporter": "python",
   "pygments_lexer": "ipython3",
   "version": "3.6.5"
  }
 },
 "nbformat": 4,
 "nbformat_minor": 2
}
